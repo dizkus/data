{
 "cells": [
  {
   "cell_type": "code",
   "execution_count": 21,
   "metadata": {},
   "outputs": [],
   "source": [
    "import csv\n",
    "TRANSFERS_FILE = '../data/daohack/transfer_events.csv'\n",
    "CREATED_FILE = '../data/daohack/create_events.csv'"
   ]
  },
  {
   "cell_type": "code",
   "execution_count": 22,
   "metadata": {},
   "outputs": [],
   "source": [
    "def read_csv(filename):\n",
    "    rows = []\n",
    "    with open(filename) as f:\n",
    "        r = csv.reader(f)\n",
    "        i = 0\n",
    "        for row in r:\n",
    "            if i == 0:\n",
    "                i += 1\n",
    "                continue\n",
    "            rows.append(row)\n",
    "    return rows"
   ]
  },
  {
   "cell_type": "code",
   "execution_count": 23,
   "metadata": {},
   "outputs": [],
   "source": [
    "def format_addr(a):\n",
    "    return '0x' + a[2:]\n",
    "\n",
    "def row_to_transfer(row):\n",
    "    return {\n",
    "        'type': 'transfer',\n",
    "        'from': format_addr(row[0]),\n",
    "        'to': format_addr(row[1]),\n",
    "        'amount': int(row[2]),\n",
    "        'block': int(row[7]),\n",
    "        'txIdx': int(row[5])\n",
    "    }\n",
    "\n",
    "def row_to_create(row):\n",
    "    return {\n",
    "        'type': 'create',\n",
    "        'to': format_addr(row[0]),\n",
    "        'amount': int(row[1]),\n",
    "        'block': int(row[6]),\n",
    "        'txIdx': int(row[4])\n",
    "    }"
   ]
  },
  {
   "cell_type": "code",
   "execution_count": 24,
   "metadata": {},
   "outputs": [],
   "source": [
    "transfers = [row_to_transfer(row) for row in read_csv(TRANSFERS_FILE)]\n",
    "creates = [row_to_create(row) for row in read_csv(CREATED_FILE)]"
   ]
  },
  {
   "cell_type": "code",
   "execution_count": 25,
   "metadata": {},
   "outputs": [
    {
     "data": {
      "text/plain": [
       "{'type': 'create',\n",
       " 'to': '0xfbc1ab9a735012cf8aa4f8738c5811cdbf39a0c5',\n",
       " 'amount': 1000000000000000000,\n",
       " 'block': 1432254,\n",
       " 'txIdx': 2}"
      ]
     },
     "execution_count": 25,
     "metadata": {},
     "output_type": "execute_result"
    }
   ],
   "source": [
    "creates[0]"
   ]
  },
  {
   "cell_type": "code",
   "execution_count": 26,
   "metadata": {},
   "outputs": [
    {
     "data": {
      "text/plain": [
       "{'type': 'transfer',\n",
       " 'from': '0x3f6519dc382a31f8d12f8d161b8151b40c457347',\n",
       " 'to': '0xfbb1b73c4f0bda4f67dca266ce6ef42f520fbb98',\n",
       " 'amount': 10051094920000000000,\n",
       " 'block': 1599237,\n",
       " 'txIdx': 37}"
      ]
     },
     "execution_count": 26,
     "metadata": {},
     "output_type": "execute_result"
    }
   ],
   "source": [
    "transfers[0]"
   ]
  },
  {
   "cell_type": "code",
   "execution_count": 27,
   "metadata": {},
   "outputs": [],
   "source": [
    "from collections import defaultdict\n",
    "\n",
    "# merge by block/evtIdx. then simulate in order\n",
    "sorted_logs = sorted(creates + transfers, \n",
    "                     key=lambda l: (l['block'], l['txIdx']))\n",
    "\n",
    "# simulate all events\n",
    "balances = defaultdict(int)\n",
    "for log in sorted_logs:\n",
    "    if log['type'] == 'create':\n",
    "        balances[log['to']] += log['amount']\n",
    "    \n",
    "    elif log['type'] == 'transfer':\n",
    "        amount = log['amount']\n",
    "        to = log['to']\n",
    "        frm = log['from']\n",
    "        if balances[frm] < amount:\n",
    "            print('not enough balance for transfer! exiting')\n",
    "            break\n",
    "        \n",
    "        balances[to] += amount\n",
    "        balances[frm] -= amount\n",
    "    \n",
    "    else:\n",
    "        print('untyped log!')"
   ]
  },
  {
   "cell_type": "code",
   "execution_count": 28,
   "metadata": {},
   "outputs": [
    {
     "data": {
      "text/plain": [
       "[33822, 23867]"
      ]
     },
     "execution_count": 28,
     "metadata": {},
     "output_type": "execute_result"
    }
   ],
   "source": [
    "# filter down to balances with >0 tokens\n",
    "positive_balances = {k: v for k, v in balances.items() if v > 0}\n",
    "\n",
    "[len(balances), len(positive_balances)]"
   ]
  },
  {
   "cell_type": "code",
   "execution_count": 32,
   "metadata": {},
   "outputs": [],
   "source": [
    "import csv\n",
    "\n",
    "# write to file\n",
    "owners = list(positive_balances.keys())\n",
    "\n",
    "with open('../data/daohack/owner_addresses.csv', 'w') as f:\n",
    "    w = csv.writer(f)\n",
    "    for owner in owners:\n",
    "        w.writerow([owner])"
   ]
  }
 ],
 "metadata": {
  "kernelspec": {
   "display_name": "Python 3",
   "language": "python",
   "name": "python3"
  },
  "language_info": {
   "codemirror_mode": {
    "name": "ipython",
    "version": 3
   },
   "file_extension": ".py",
   "mimetype": "text/x-python",
   "name": "python",
   "nbconvert_exporter": "python",
   "pygments_lexer": "ipython3",
   "version": "3.8.13"
  }
 },
 "nbformat": 4,
 "nbformat_minor": 4
}
